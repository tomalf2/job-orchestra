{
 "cells": [
  {
   "cell_type": "markdown",
   "metadata": {},
   "source": [
    "## Quick start"
   ]
  },
  {
   "cell_type": "code",
   "execution_count": null,
   "metadata": {},
   "outputs": [],
   "source": [
    "from job_orchestra import Step, Context"
   ]
  },
  {
   "cell_type": "code",
   "execution_count": null,
   "metadata": {},
   "outputs": [],
   "source": [
    "class BoilWater(Step):\n",
    "    def run(self):\n",
    "        pass\n",
    "class BrownOnions(Step):\n",
    "    def run(self):\n",
    "        pass\n",
    "class CutTomatoes(Step):\n",
    "    def run(self, tomatoes):\n",
    "        pass\n",
    "class PourTomatoes(Step):\n",
    "    def run(self, tomatoes, onions):\n",
    "        return \"pan_with_tomatoes\"\n",
    "class Salt(Step):\n",
    "    def run(self, to_salt):\n",
    "        pass\n",
    "class PourPasta(Step):\n",
    "    def run(self, salted_water):\n",
    "        pass\n",
    "class PickBasil(Step):\n",
    "    def run(self):\n",
    "        pass\n",
    "class PanFry(Step):\n",
    "    def run(self, *ingredients):\n",
    "        pass\n",
    "\n",
    "water = BoilWater()\n",
    "brown_onions = BrownOnions()\n",
    "cut_tomatoes = CutTomatoes(depends_on=brown_onions)\n",
    "pour_tomatoes = PourTomatoes(depends_on=[cut_tomatoes, brown_onions])\n",
    "salt_water = Salt(depends_on=water, name_alias=\"SaltWater\")\n",
    "salt_tomatoes = Salt(depends_on=pour_tomatoes, name_alias=\"SaltTomatoes\")\n",
    "pasta = PourPasta(depends_on=salt_water)\n",
    "basil = PickBasil()\n",
    "merge = PanFry(depends_on=[pasta, salt_tomatoes, basil])\n",
    "\n",
    "head = merge\n",
    "head.execution_plan()\n",
    "head.dependency_graph()"
   ]
  },
  {
   "cell_type": "markdown",
   "metadata": {},
   "source": [
    "## Memory persistence\n",
    "\n",
    "Introduce a Context to save PourTomatoes."
   ]
  },
  {
   "cell_type": "code",
   "execution_count": null,
   "metadata": {},
   "outputs": [],
   "source": [
    "ctx = Context()\n",
    "\n",
    "pour_tomatoes = PourTomatoes(depends_on=[cut_tomatoes, brown_onions], ctx=ctx)\n",
    "merge = PanFry(depends_on=[pasta, pour_tomatoes, basil])\n",
    "\n",
    "head = merge\n",
    "head.execution_plan()"
   ]
  },
  {
   "cell_type": "markdown",
   "metadata": {},
   "source": [
    "Let the Context save the result of PourTomatoes"
   ]
  },
  {
   "cell_type": "code",
   "execution_count": null,
   "metadata": {},
   "outputs": [],
   "source": [
    "head.materialize()"
   ]
  },
  {
   "cell_type": "markdown",
   "metadata": {},
   "source": [
    "Check that the pipeline has saved the output of PourTomatoes"
   ]
  },
  {
   "cell_type": "code",
   "execution_count": null,
   "metadata": {},
   "outputs": [],
   "source": [
    "head.execution_plan()"
   ]
  }
 ],
 "metadata": {
  "language_info": {
   "name": "python"
  }
 },
 "nbformat": 4,
 "nbformat_minor": 2
}
